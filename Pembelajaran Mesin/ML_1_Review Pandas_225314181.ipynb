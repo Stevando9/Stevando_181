{
 "cells": [
  {
   "cell_type": "code",
   "execution_count": 1,
   "metadata": {},
   "outputs": [],
   "source": [
    "### Review Pandas (Pembelajaran Mesin #1)\n",
    "### Dipersiapkan oleh Ridowati G\n"
   ]
  },
  {
   "cell_type": "code",
   "execution_count": 2,
   "metadata": {},
   "outputs": [],
   "source": [
    "### 1. Membaca Data dari file csv"
   ]
  },
  {
   "cell_type": "code",
   "execution_count": 4,
   "metadata": {},
   "outputs": [
    {
     "name": "stdout",
     "output_type": "stream",
     "text": [
      "            Name            Team  Number Position   Age Height  Weight  \\\n",
      "0  Avery Bradley  Boston Celtics     0.0       PG  25.0    6-2   180.0   \n",
      "1    Jae Crowder  Boston Celtics    99.0       SF  25.0    6-6   235.0   \n",
      "2   John Holland  Boston Celtics    30.0       SG  27.0    6-5   205.0   \n",
      "3    R.J. Hunter  Boston Celtics    28.0       SG  22.0    6-5   185.0   \n",
      "4  Jonas Jerebko  Boston Celtics     8.0       PF  29.0   6-10   231.0   \n",
      "\n",
      "             College     Salary  \n",
      "0              Texas  7730337.0  \n",
      "1          Marquette  6796117.0  \n",
      "2  Boston University        NaN  \n",
      "3      Georgia State  1148640.0  \n",
      "4                NaN  5000000.0  \n",
      "(458, 9)\n",
      "<class 'pandas.core.frame.DataFrame'>\n",
      "RangeIndex: 458 entries, 0 to 457\n",
      "Data columns (total 9 columns):\n",
      " #   Column    Non-Null Count  Dtype  \n",
      "---  ------    --------------  -----  \n",
      " 0   Name      457 non-null    object \n",
      " 1   Team      457 non-null    object \n",
      " 2   Number    457 non-null    float64\n",
      " 3   Position  457 non-null    object \n",
      " 4   Age       457 non-null    float64\n",
      " 5   Height    457 non-null    object \n",
      " 6   Weight    457 non-null    float64\n",
      " 7   College   373 non-null    object \n",
      " 8   Salary    446 non-null    float64\n",
      "dtypes: float64(4), object(5)\n",
      "memory usage: 32.3+ KB\n",
      "9\n"
     ]
    }
   ],
   "source": [
    "## 1.1. Import library pandas beri nama pd\n",
    "import pandas as pd\n",
    "\n",
    "## 1.2. Baca data file nba terlampir simpan dengan nama dataku\n",
    "dataku = pd.read_csv(\"nba.csv\")\n",
    "\n",
    "## 1.3. Tampilkan isi dataku\n",
    "print(dataku.head())\n",
    "\n",
    "## 1.4. Berapa ukuran dataku (jumlah baris dataku dan jumlah kolom dataku)? \n",
    "print(dataku.shape)\n",
    "\n",
    "## 1.5. Tampilkan informasi dari dataku (info)\n",
    "dataku.info()\n",
    "\n",
    "## 1.6. Berapa banyaknya kolom dari dataku\n",
    "print(dataku.shape[1])\n"
   ]
  },
  {
   "cell_type": "code",
   "execution_count": null,
   "metadata": {},
   "outputs": [],
   "source": [
    "### 2. Menampilkan isi data"
   ]
  },
  {
   "cell_type": "code",
   "execution_count": 5,
   "metadata": {},
   "outputs": [
    {
     "name": "stdout",
     "output_type": "stream",
     "text": [
      "                Name   Age\n",
      "152     Aaron Brooks  31.0\n",
      "356     Aaron Gordon  20.0\n",
      "328   Aaron Harrison  21.0\n",
      "404    Adreian Payne  25.0\n",
      "312       Al Horford  30.0\n",
      "330     Al Jefferson  31.0\n",
      "428  Al-Farouq Aminu  25.0\n",
      "368    Alan Anderson  33.0\n",
      "135    Alan Williams  23.0\n",
      "444       Alec Burks  24.0\n"
     ]
    }
   ],
   "source": [
    "#2.1. Tampilkan data awal dari dataku (gunakan head)\n",
    "dataku.head()\n",
    "\n",
    "#2.2. Tampilkan data terakhir dari dataku (gunakan tail)\n",
    "dataku.tail()\n",
    "\n",
    "#2.3. Tampilkan 20 data teratas dari dataku dari column Name \n",
    "dataku.sort_values(by=\"Name\").head(20)[\"Name\"]\n",
    "\n",
    "#2.4. Tampilkan 10 data teratas dari column Name dan Age, simpan hasilnya dengan nama \"top10\" : Contoh Hasil \n",
    "top10 = dataku.sort_values(by=\"Name\").head(10)[[\"Name\", \"Age\"]]\n",
    "\n",
    "print(top10)\n"
   ]
  },
  {
   "cell_type": "code",
   "execution_count": 9,
   "metadata": {},
   "outputs": [
    {
     "name": "stdout",
     "output_type": "stream",
     "text": [
      "237          Zaza Pachulia\n",
      "271          Zach Randolph\n",
      "402            Zach LaVine\n",
      "270         Xavier Munford\n",
      "386        Wilson Chandler\n",
      "25             Willie Reed\n",
      "141    Willie Cauley-Stein\n",
      "385            Will Barton\n",
      "233        Wesley Matthews\n",
      "97          Wesley Johnson\n",
      "Name: Name, dtype: object\n"
     ]
    }
   ],
   "source": [
    "#2.5. Tampilkan 10 data terbawah dari column Name. Simpan hasilnya dalam variable \"bottom10\" : Contoh Hasil\n",
    "bottom10 = dataku.sort_values(by=\"Name\", ascending=False).head(10)[[\"Name\", \"Age\"]]\n",
    "\n",
    "print(bottom10[\"Name\"])\n"
   ]
  },
  {
   "cell_type": "code",
   "execution_count": null,
   "metadata": {},
   "outputs": [],
   "source": [
    "### 3. Melihat data statistik"
   ]
  },
  {
   "cell_type": "code",
   "execution_count": 13,
   "metadata": {},
   "outputs": [
    {
     "data": {
      "text/plain": [
       "College\n",
       "Kentucky          22\n",
       "Duke              20\n",
       "Kansas            18\n",
       "North Carolina    16\n",
       "UCLA              15\n",
       "Name: count, dtype: int64"
      ]
     },
     "execution_count": 13,
     "metadata": {},
     "output_type": "execute_result"
    }
   ],
   "source": [
    "import numpy as np\n",
    "\n",
    "# 3.1. Tampilkan statistik deskriptive khusus untuk data numeric \n",
    "dataku.describe(include=[np.number])\n",
    "\n",
    "# 3.2. Berapakah rata-rata dari kolom \"Age\" dataku.describe()\n",
    "dataku[\"Age\"].mean()\n",
    "\n",
    "# 3.3. Tampilkan statistik deksriptif khusus untuk data nonnumeric\n",
    "dataku.describe(include=[np.object_])\n",
    "\n",
    "# 3.4. Ada berapakah jumlah team yang unik ?\n",
    "dataku[\"Team\"].unique().shape[0]\n",
    "\n",
    "# 3.5. College manakah yang termasuk dalam top ? \n",
    "dataku[\"College\"].value_counts().sort_values(ascending=False).head(5)\n"
   ]
  },
  {
   "cell_type": "code",
   "execution_count": null,
   "metadata": {},
   "outputs": [],
   "source": [
    "### 4. Import data ke xlsx\n"
   ]
  },
  {
   "cell_type": "code",
   "execution_count": 23,
   "metadata": {},
   "outputs": [
    {
     "name": "stdout",
     "output_type": "stream",
     "text": [
      "Note: you may need to restart the kernel to use updated packages.\n"
     ]
    },
    {
     "name": "stderr",
     "output_type": "stream",
     "text": [
      "ERROR: Could not find a version that satisfies the requirement openpyx1 (from versions: none)\n",
      "ERROR: No matching distribution found for openpyx1\n",
      "\n",
      "[notice] A new release of pip is available: 23.2.1 -> 24.0\n",
      "[notice] To update, run: python.exe -m pip install --upgrade pip\n"
     ]
    }
   ],
   "source": [
    "pip install openpyx1"
   ]
  },
  {
   "cell_type": "code",
   "execution_count": 41,
   "metadata": {},
   "outputs": [
    {
     "name": "stdout",
     "output_type": "stream",
     "text": [
      "Data telah disimpan ke dalam file dataexcel.xlsx, sheet: coba lagi\n"
     ]
    }
   ],
   "source": [
    "# 4.1. Import dataku ke dalam file excell (xlsx) dengan nama \"dataexcel\", nama sheet = \"coba lagi\"\n",
    "# Kumpulkan file dataexcel.xlsx tersebut\n",
    "df = pd.DataFrame(dataku)\n",
    "df.to_excel('dataexcel.xlsx', sheet_name='coba lagi', index=False)\n",
    "print(f'Data telah disimpan ke dalam file {'dataexcel.xlsx'}, sheet: {'coba lagi'}')"
   ]
  },
  {
   "cell_type": "code",
   "execution_count": null,
   "metadata": {},
   "outputs": [],
   "source": [
    "### 5. Membuat dataframe"
   ]
  },
  {
   "cell_type": "code",
   "execution_count": 42,
   "metadata": {},
   "outputs": [
    {
     "name": "stdout",
     "output_type": "stream",
     "text": [
      "             0\n",
      "0  Informatika\n",
      "1  Universitas\n",
      "2       Sanata\n",
      "3       Dharma\n"
     ]
    }
   ],
   "source": [
    "#Membuat dataframe dari list\n",
    "## 5.1. Buatlah sebuah data frame berasal dari list. Beri nama dataframe dffromlist\n",
    "## isi dari list : ['Informatika','Universitas','Sanata','Dharma']\n",
    "data = ['Informatika', 'Universitas', 'Sanata', 'Dharma']\n",
    "\n",
    "dffromlist = pd.DataFrame(data)\n",
    "\n",
    "## 5.2. Tampilkan dffromlist\n",
    "print(dffromlist)"
   ]
  },
  {
   "cell_type": "code",
   "execution_count": 46,
   "metadata": {},
   "outputs": [
    {
     "name": "stdout",
     "output_type": "stream",
     "text": [
      "      Program Studi  Jumlah\n",
      "                           \n",
      "INF     Informatika    3000\n",
      "TE   Teknik Elektro    1000\n",
      "TM     Teknik Mesin     500\n",
      "MAT      Matematika     200\n"
     ]
    }
   ],
   "source": [
    "##Membuat dataframe dari dictonary ndarry/list\n",
    "## 5.3. Buatlah sebuah data frame berasal dari dictionary ndarry/list beri nama dffromdict\n",
    "# Note : INF, TE, TM, MAT adalah index\n",
    "data = {\n",
    "    \" \": [\"INF\", \"TE\", \"TM\", \"MAT\"], \n",
    "    \"Program Studi\" : [\"Informatika\", \"Teknik Elektro\", \"Teknik Mesin\", \"Matematika\"],\n",
    "    \"Jumlah\" : [3000, 1000, 500, 200]\n",
    "}\n",
    "\n",
    "dffromdict = pd.DataFrame(data).set_index(\" \")\n",
    "\n",
    "## 5.4. Tampilkan hasilnya \n",
    "print(dffromdict)"
   ]
  },
  {
   "cell_type": "code",
   "execution_count": 47,
   "metadata": {},
   "outputs": [
    {
     "name": "stdout",
     "output_type": "stream",
     "text": [
      "      Program Studi  Jumlah\n",
      "                           \n",
      "INF     Informatika    3000\n",
      "TE   Teknik Elektro    1000\n",
      "TM     Teknik Mesin     500\n",
      "MAT      Matematika     200\n"
     ]
    }
   ],
   "source": [
    "#Membuat dataframe dari dataframe dari list of list, sehingga menghasilkan hasil seperti gambar\n",
    "## 5.5. Buatlah dataframe dari list of list \n",
    "data = [\n",
    "    [\"INF\", \"Informatika\", 3000],\n",
    "    [\"TE\", \"Teknik Elektro\", 1000],\n",
    "    [\"TM\", \"Teknik Mesin\", 500],\n",
    "    [\"MAT\", \"Matematika\", 200],\n",
    "]\n",
    "\n",
    "df_listoflist = pd.DataFrame(data, columns=[\" \", \"Program Studi\", \"Jumlah\"]).set_index(\" \")\n",
    "\n",
    "## 5.6. Tampilkan hasilnya\n",
    "print(df_listoflist)\n"
   ]
  },
  {
   "cell_type": "code",
   "execution_count": 53,
   "metadata": {},
   "outputs": [
    {
     "name": "stdout",
     "output_type": "stream",
     "text": [
      "       satu       dua      tiga     empat      lima      enam     tujuh\n",
      "A  0.374540  0.950714  0.731994  0.598658  0.156019  0.155995  0.058084\n",
      "B  0.866176  0.601115  0.708073  0.020584  0.969910  0.832443  0.212339\n",
      "C  0.181825  0.183405  0.304242  0.524756  0.431945  0.291229  0.611853\n",
      "D  0.139494  0.292145  0.366362  0.456070  0.785176  0.199674  0.514234\n"
     ]
    }
   ],
   "source": [
    "# 5.6. Buatlah dataframe dengan 4 baris 7 kolom, isinya adalah nilai random. \n",
    "##Nama kolom \"satu\",\"dua\", \"tiga\",\"empat\",\"lima\", \"enam\", \"tujuh\"\n",
    "##Nama baris (index) =\"A\",\"B\",\"C\",\"D\"\n",
    "np.random.seed(42)\n",
    "\n",
    "df_random = pd.DataFrame(np.random.rand(4, 7),\n",
    "                        columns=[\"satu\", \"dua\", \"tiga\", \"empat\", \"lima\", \"enam\", \"tujuh\"],\n",
    "                        index=[\"A\", \"B\", \"C\", \"D\"])\n",
    "\n",
    "print(df_random)\n"
   ]
  }
 ],
 "metadata": {
  "kernelspec": {
   "display_name": "Python 3",
   "language": "python",
   "name": "python3"
  },
  "language_info": {
   "codemirror_mode": {
    "name": "ipython",
    "version": 3
   },
   "file_extension": ".py",
   "mimetype": "text/x-python",
   "name": "python",
   "nbconvert_exporter": "python",
   "pygments_lexer": "ipython3",
   "version": "3.12.1"
  }
 },
 "nbformat": 4,
 "nbformat_minor": 2
}
