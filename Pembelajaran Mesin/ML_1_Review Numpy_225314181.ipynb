{
 "cells": [
  {
   "cell_type": "code",
   "execution_count": 2,
   "metadata": {},
   "outputs": [],
   "source": [
    "### NAMA    : Stevando Christian Hesha\n",
    "### NIM     : 225314181"
   ]
  },
  {
   "cell_type": "code",
   "execution_count": 9,
   "metadata": {},
   "outputs": [
    {
     "name": "stdout",
     "output_type": "stream",
     "text": [
      "My List\n",
      "['0', 1, 'two', 2, 3, 4]\n",
      "\n",
      "Apakah terjadi error ?\n",
      "Tidak\n",
      "\n",
      "Mengapa ?\n",
      "Karena pada saat penulisan elemen dipisahkan dengan koma dan saat memulai serta menutup diakhiri tanda petik dua\n"
     ]
    }
   ],
   "source": [
    "# 1. Membuat List\n",
    "# 1.1. Dapatkah sebuah list berisi data yang memilliki tipe data yang berbeda ?\n",
    "# 1.2. Buatlah sebuah list dengan nama \"mylist\" berisi \"0\",1,\"two\", 2,3,4\n",
    "mylist = [\"0\", 1, \"two\", 2, 3, 4]\n",
    "# 1.3. Tampilkan isi mylist\n",
    "print(\"My List\")\n",
    "print(mylist)\n",
    "print()\n",
    "# 1.4. Apakah terjadi error ?\n",
    "print(\"Apakah terjadi error ?\")\n",
    "print(\"Tidak\")\n",
    "print()\n",
    "# 1.5. Mengapa ?\n",
    "# Karena pada saat penulisan elemen dipisahkan dengan koma dan saat memulai serta menutup diakhiri tanda petik dua"
   ]
  },
  {
   "cell_type": "code",
   "execution_count": 16,
   "metadata": {},
   "outputs": [
    {
     "name": "stdout",
     "output_type": "stream",
     "text": [
      "Setiap elemen dari mylist\n",
      "0\n",
      "1\n",
      "two\n",
      "2\n",
      "3\n",
      "4\n",
      "\n",
      "Isi mylist index ke-3 \n",
      "2\n"
     ]
    }
   ],
   "source": [
    "# 2. Mencetak isi list\n",
    "# 2.1. Tampilkan setiap element dari mylist\n",
    "print(\"Setiap elemen dari mylist\")\n",
    "for element in mylist:\n",
    "    print(element)\n",
    "print()\n",
    "# 2.2. Tampilkan isi mylist index ke-3 \n",
    "print(\"Isi mylist index ke-3 \")\n",
    "print(mylist[3])\n"
   ]
  },
  {
   "cell_type": "code",
   "execution_count": 21,
   "metadata": {},
   "outputs": [
    {
     "name": "stdout",
     "output_type": "stream",
     "text": [
      "Isi myarray\n",
      "['0' '1' 'two' '2' '3' '4']\n",
      "\n",
      "Isi myarray2\n",
      "[10 11 12 13 14]\n",
      "\n",
      "# myarray2\n",
      "[10 11 12 13 14]\n",
      "      myarray[0]=10\n",
      "      myarray[1]=11\n",
      "      myarray[2]=12\n",
      "      myarray[3]=13\n",
      "      myarray[4]=14\n",
      "\n",
      "Elemen dari myarray2 index ke-3 adalah \n",
      "13\n"
     ]
    }
   ],
   "source": [
    "#3.0. Kesepakatan programmer Pyhton, Numpy biasanya disingkat np. Selanjutnya gunakan np\n",
    "## import numpy as np\n",
    "import numpy as np\n",
    "\n",
    "#3.1. Ubahlah  mylist kedalam numpy array beri nama myarray\n",
    "myarray = np.array(mylist)\n",
    "\n",
    "#3.2. Tampilkan isi myarray\n",
    "print(\"Isi myarray\")\n",
    "print(myarray)\n",
    "print()\n",
    "\n",
    "#3.3. Buatlah array menggunakan numpy array berisi nilai : 10,11,12,13,14 beri nama myarray2\n",
    "myarray2 = np.array([10, 11, 12, 13, 14])\n",
    "\n",
    "#3.4. Tampilkan isi setiap elemen dari myarray2. Tampilan yang diinginkan : [10 11 12 13 14]\n",
    "print(\"Isi myarray2\")\n",
    "print(myarray2)\n",
    "print()\n",
    "\n",
    "#3.5. Tampilkan isi myarray2 lagi, tampilan yang diinginkan : Tampilan yang diinginkan (tanpa # tidak ditampilkan)\n",
    " #      myarray[0]=10\n",
    "  #     myarray[1]=11\n",
    "   #    myarray[2]=12\n",
    "    #   myarray[3]=13\n",
    "     #  myarray[4]=14\n",
    "print(\"# myarray2\")\n",
    "print(myarray2)\n",
    "\n",
    "for i in range(len(myarray2)):\n",
    "  print(f\"      myarray[{i}]={myarray2[i]}\")\n",
    "print()\n",
    "\n",
    "#3.6. Tampilkan elemen dari myarray2 index ke-3 yaitu (13).\n",
    "print(\"Elemen dari myarray2 index ke-3 adalah \")\n",
    "print(myarray2[3])\n"
   ]
  },
  {
   "cell_type": "code",
   "execution_count": 24,
   "metadata": {},
   "outputs": [
    {
     "name": "stdout",
     "output_type": "stream",
     "text": [
      "[10, 11, 12, 13, 14, 10, 11, 12, 13, 14, 10, 11, 12, 13, 14]\n",
      "[30 33 36 39 42]\n"
     ]
    }
   ],
   "source": [
    "# 4.1. Buatlah sebuah list dengan nama mylist2 berisi 10,11,12,13,14\n",
    "mylist2 = [10,11,12,13,14]\n",
    "\n",
    "# 4.2. Kalikan mylist2 dengan 3  \n",
    "print(mylist2 * 3)\n",
    "\n",
    "# 4.3. Kalikan myarray2 dengan 3 (myarray2 ada pada bagian 3.3)\n",
    "print(myarray2 * 3)\n",
    "\n",
    "# 4.4. Apa perbedaan anatara 4.2 dan 4.3. Jelaskan secara singkat\n",
    "# Perbedaan terdapat pada tipe datanya. \n",
    "# Pada mylist2 bertipe list python dan pada myarray2 bertipe numpy array\")\n",
    "# Perbedaan pada operasi perkaliannya"
   ]
  },
  {
   "cell_type": "code",
   "execution_count": 27,
   "metadata": {},
   "outputs": [
    {
     "name": "stdout",
     "output_type": "stream",
     "text": [
      "[0. 0. 0. 0. 0. 0. 0.]\n",
      "\n",
      "[1. 1. 1. 1. 1. 1. 1.]\n",
      "\n",
      "[10 15 20 25 30 35 40 45]\n",
      "\n",
      "[ 10  20  30  40  50  60  70  80  90 100]\n",
      "\n",
      "[ 10.  20.  30.  40.  50.  60.  70.  80.  90. 100.]\n",
      "\n"
     ]
    }
   ],
   "source": [
    "#5.1. buatlah array yang berisi nilai 0 (gunakan fungsi zeros) \n",
    "### sebanyak 7 beri nama arrayzeros, tampilkan hasilnya\n",
    "import numpy as np\n",
    "\n",
    "arrayzeros = np.zeros(7)\n",
    "\n",
    "print(arrayzeros)\n",
    "print()\n",
    "\n",
    "#5.2. buatlah array yang berisi nilai 1 (gunakan fungsi ones) \n",
    "### sebanyak 7 beri nama arrayones, tampilkan hasilnya\n",
    "arrayones = np.ones(7)\n",
    "\n",
    "print(arrayones)\n",
    "print()\n",
    "\n",
    "#5.3. buatlah array dimulai dari 10 sd 50 step 5 (gunakan fungsi arange) \n",
    "### beri nama arrayarange tampilkan hasilnya\n",
    "arrayarange = np.arange(10, 50, 5)\n",
    "\n",
    "print(arrayarange)\n",
    "print()\n",
    "\n",
    "#5.4. buatlah array dimulai dari 10 sd 101 step 10 (gunakan fungsi arange) \n",
    "### beri nama arrayarange tampilkan hasilnya\n",
    "arrayarange = np.arange(10, 101, 10)\n",
    "\n",
    "print(arrayarange)\n",
    "print()\n",
    "\n",
    "#5.5. buatlah array dimulai dari 10 sd 100 sejumlah 10 (gunakan fungsi linspace) \n",
    "### beri nama arrayalinspace tampilkan hasilnya\n",
    "arraylinspace = np.linspace(10, 100, 10)\n",
    "\n",
    "print(arraylinspace)\n",
    "print()\n",
    "\n",
    "#5.6. Berikan penjelasan perbedaan antara 5.4 dan 5.5.\n",
    "# pada "
   ]
  },
  {
   "cell_type": "code",
   "execution_count": 29,
   "metadata": {},
   "outputs": [
    {
     "name": "stdout",
     "output_type": "stream",
     "text": [
      "<class 'numpy.ndarray'>\n",
      "int32\n"
     ]
    }
   ],
   "source": [
    "# 6.1. Tampilkan tipe dari myarray2\n",
    "print(type(myarray2))\n",
    "\n",
    "# 6.2. Tampilkan tipe dari data yang ada dalam myarray2\n",
    "print(myarray2.dtype)\n",
    "\n",
    "# 6.3. Apa perbedaan antara 6.1 dan 6.2\n",
    "# pada 6.1 akan menampilkan tipe data dari myarray2 \n",
    "# sedangkan 6.2 akan menampilkan tipe data yang ada didalam myarray 2"
   ]
  },
  {
   "cell_type": "code",
   "execution_count": 33,
   "metadata": {},
   "outputs": [
    {
     "name": "stdout",
     "output_type": "stream",
     "text": [
      "arrku\n",
      "[[11 12 13 14 15]\n",
      " [21 22 23 24 25]\n",
      " [31 32 33 34 35]]\n",
      "\n",
      "jumlah arrku\n",
      "15\n",
      "\n",
      "Dimensi arrku\n",
      "2\n",
      "\n",
      "Ukuran arrku\n",
      "(3, 5)\n",
      "\n",
      "Transpose dari arrku\n",
      "[[11 21 31]\n",
      " [12 22 32]\n",
      " [13 23 33]\n",
      " [14 24 34]\n",
      " [15 25 35]]\n",
      "\n"
     ]
    }
   ],
   "source": [
    "#7.1. Buatlah array 2 dimensi, beri nama arrku. Isi arrku adalah :\n",
    "## baris 1 : [11,12,13,14,15], baris 2 =[21,22,23,24,25], baris 3 =[31, 32, 33,34,35]\n",
    "import numpy as np\n",
    "\n",
    "arrku = np.array([\n",
    "    [11, 12, 13, 14, 15],\n",
    "    [21, 22, 23, 24, 25],\n",
    "    [31, 32, 33, 34, 35],\n",
    "])\n",
    "\n",
    "#7.2. Tampilkan arrku\n",
    "print(\"arrku\")\n",
    "print(arrku)\n",
    "print()\n",
    "\n",
    "#7.3. Tampilkan jumlah elemen dari arrku (size)\n",
    "print(\"jumlah arrku\")\n",
    "print(arrku.size)\n",
    "print()\n",
    "\n",
    "#7.4. Tampilkan  dimensi dari arrku (ndim)\n",
    "print(\"Dimensi arrku\")\n",
    "print(arrku.ndim)\n",
    "print()\n",
    "\n",
    "#7.5. Tampilkan ukuran dari arrku (shape)  \n",
    "print(\"Ukuran arrku\")\n",
    "print(arrku.shape)\n",
    "print()\n",
    "\n",
    "#7.6. Tampilkan transpose dari arrku (T)\n",
    "print(\"Transpose dari arrku\")\n",
    "print(arrku.T)\n",
    "print()\n"
   ]
  },
  {
   "cell_type": "code",
   "execution_count": 35,
   "metadata": {},
   "outputs": [
    {
     "name": "stdout",
     "output_type": "stream",
     "text": [
      "25\n"
     ]
    }
   ],
   "source": [
    "# 8. Indexing dan Slicing Array\n",
    "# 8.1. Tampilkan element arrku dari baris kedua dan kolom kelima (hasil : 25)\n",
    "print(arrku[1, 4])\n"
   ]
  },
  {
   "cell_type": "code",
   "execution_count": 36,
   "metadata": {},
   "outputs": [
    {
     "name": "stdout",
     "output_type": "stream",
     "text": [
      "[11 12 13]\n"
     ]
    }
   ],
   "source": [
    "# 8.2. Tampilkan element arrku dari tiga kolom pertama dari baris pertama ([11 12 13])\n",
    "print(arrku[0, :3])\n"
   ]
  },
  {
   "cell_type": "code",
   "execution_count": 37,
   "metadata": {},
   "outputs": [
    {
     "name": "stdout",
     "output_type": "stream",
     "text": [
      "[13 23]\n"
     ]
    }
   ],
   "source": [
    "# 8.3. Tampilkan element arrku dari baris pertama dan kedua dan kolom ketiga ([13,23])\n",
    "print(arrku[0:2, 2])\n"
   ]
  },
  {
   "cell_type": "code",
   "execution_count": 38,
   "metadata": {},
   "outputs": [
    {
     "name": "stdout",
     "output_type": "stream",
     "text": [
      "[[11 12 13 14 15]\n",
      " [21 22 23 24 25]]\n"
     ]
    }
   ],
   "source": [
    "# 8.4. Tampilkan element arrku dari baris pertama dan kedua ([[11, 12, 13, 14, 15],[21, 22, 23, 24, 25]])\n",
    "print(arrku[0:2, :])\n"
   ]
  },
  {
   "cell_type": "code",
   "execution_count": 40,
   "metadata": {},
   "outputs": [
    {
     "name": "stdout",
     "output_type": "stream",
     "text": [
      "[[15]\n",
      " [25]\n",
      " [35]]\n"
     ]
    }
   ],
   "source": [
    "# 8.4. Perintah untuk menghasilkan element arrku dari kolom kelima seperti berikut (abaikan ##): \n",
    "## array([15],\n",
    "##       [25],\n",
    "##       [35])\n",
    "print(arrku[:, 4].reshape(-1, 1))\n"
   ]
  },
  {
   "cell_type": "code",
   "execution_count": 43,
   "metadata": {},
   "outputs": [
    {
     "name": "stdout",
     "output_type": "stream",
     "text": [
      "Penjumlahan: [13 14 15 16 17]\n",
      "Pengurangan: [ 9 10 11 12 13]\n",
      "Perkalian: [22 24 26 28 30]\n",
      "Pembagian: [5.5 6.  6.5 7.  7.5]\n",
      "Perpangkatan: [121 144 169 196 225]\n",
      "Perkalian Dot: 130\n",
      "[[11 12 13 14 15]\n",
      " [21 22 23 24 25]\n",
      " [31 32 33 34 35]]\n",
      "Nilai minimal: 11\n",
      "Nilai maksimal: 35\n",
      "Nilai rata-rata: 23.0\n",
      "Total nilai: 345\n",
      "Standar Deviasi: 8.286535263104035\n",
      "Index nilai minimum: 0\n",
      "Index nilai maksimum: 14\n"
     ]
    }
   ],
   "source": [
    "#9.1. Buatlah : arr_A = np.array([11,12,13,14,15])\n",
    "arr_A = np.array([11, 12, 13, 14, 15])\n",
    "\n",
    "#9.2. Buatlah : arr_B = np.array([2,2,2,2,2])\n",
    "arr_B = np.array([2, 2, 2, 2, 2])\n",
    "\n",
    "#9.3. Lakukan operasi penjualan arry_A dan arry_B. Hasil yang diinginkan\n",
    "#Penjumlahan =  [13 14 15 16 17]\n",
    "penjumlahan = arr_A + arr_B\n",
    "\n",
    "#9.4. Lakukan operasi pengurangan arry_A dan arry_B. Hasil yang diinginkan\n",
    "#Pengurangan =  [9 10 11 12 13]\n",
    "pengurangan = arr_A - arr_B\n",
    "\n",
    "#9.5. Lakukan operasi perkalian arry_A dan arry_B. Hasil yang diinginkan\n",
    "#Perkalian =  [22 24 26 28 30]\n",
    "perkalian = arr_A * arr_B\n",
    "\n",
    "#9.6. Lakukan operasi pembagian arry_A dan arry_B. Hasil yang diinginkan\n",
    "#Pembagian =  [5.5 6.  6.5 7.  7.5]\n",
    "pembagian = arr_A / arr_B\n",
    "\n",
    "#9.7. Lakukan operasi perpangkatan : arry_A dipangkatkan arry_B. Hasil yang diinginkan\n",
    "#Perpangkatan =  [121 144 169 196 225]\n",
    "perpangkatan = arr_A ** arr_B\n",
    "\n",
    "#9.8. Lakukan operasi perkalian dot product arry_A dan arry_B. Hasil yang diinginkan\n",
    "#Perkalian Dot =  130\n",
    "perkalian_dot = np.dot(arr_A, arr_B)\n",
    "\n",
    "# Menampilkan hasil\n",
    "print(\"Penjumlahan:\", penjumlahan)\n",
    "print(\"Pengurangan:\", pengurangan)\n",
    "print(\"Perkalian:\", perkalian)\n",
    "print(\"Pembagian:\", pembagian)\n",
    "print(\"Perpangkatan:\", perpangkatan)\n",
    "print(\"Perkalian Dot:\", perkalian_dot)\n",
    "\n",
    "#9.9. Tampilkan / cetak isi dari arrku, hasil yang diinginkan (abaikan #)\n",
    "#[[11 12 13 14 15]\n",
    "# [21 22 23 24 25]\n",
    "# [31 32 33 34 35]]\n",
    "print(arrku)\n",
    "\n",
    "#9.10 tampilkan nilai minimum dari arrku\n",
    "minimum = arrku.min()\n",
    "#9.11 tampilkan nilai maksimum dari arrku\n",
    "maksimum = arrku.max()\n",
    "#9.12 tampilkan nilai rata-rata dari arrku\n",
    "rata_rata = arrku.mean()\n",
    "#9.13 tampilkan nilai total dari arrku\n",
    "total = arrku.sum()\n",
    "#9.14 tampilkan nilai standar deviasi dari arrku\n",
    "standar_deviasi = arrku.std()\n",
    "#9.15 tampilkan index nilai minimum\n",
    "index_minimum = arrku.argmin()\n",
    "#9.16 tampilkan index nilai maksimum\n",
    "index_maksimum = arrku.argmax()\n",
    "## Hasil yang diinginkan dari 9.10 sd 9.16 adalah (abaikan #)\n",
    "#Nilai minimal =  11\n",
    "#Nilai maksimal =  35\n",
    "#Nilai rata-rata =  23.0\n",
    "#Total nilai =  345\n",
    "#Standar Deviasi =  8.286535263104035\n",
    "#Index nilai minimum =  0\n",
    "#Index nilai maksimum =  14\n",
    "\n",
    "# Menampilkan hasil\n",
    "print(\"Nilai minimal:\", minimum)\n",
    "print(\"Nilai maksimal:\", maksimum)\n",
    "print(\"Nilai rata-rata:\", rata_rata)\n",
    "print(\"Total nilai:\", total)\n",
    "print(\"Standar Deviasi:\", standar_deviasi)\n",
    "print(\"Index nilai minimum:\", index_minimum)\n",
    "print(\"Index nilai maksimum:\", index_maksimum)"
   ]
  },
  {
   "cell_type": "code",
   "execution_count": 45,
   "metadata": {},
   "outputs": [
    {
     "name": "stdout",
     "output_type": "stream",
     "text": [
      "[[ 1  2  3]\n",
      " [ 4  5  6]\n",
      " [ 7  8  9]\n",
      " [10 11 12]]\n"
     ]
    },
    {
     "ename": "ValueError",
     "evalue": "cannot reshape array of size 12 into shape (3,3,2)",
     "output_type": "error",
     "traceback": [
      "\u001b[1;31m---------------------------------------------------------------------------\u001b[0m",
      "\u001b[1;31mValueError\u001b[0m                                Traceback (most recent call last)",
      "Cell \u001b[1;32mIn[45], line 26\u001b[0m\n\u001b[0;32m     13\u001b[0m \u001b[38;5;28mprint\u001b[39m(arr)\n\u001b[0;32m     16\u001b[0m \u001b[38;5;66;03m## 10.3. Lakukan reshape arr menjadi array 3 dimensi \u001b[39;00m\n\u001b[0;32m     17\u001b[0m \n\u001b[0;32m     18\u001b[0m \u001b[38;5;66;03m##[[[ 1  2]\u001b[39;00m\n\u001b[1;32m   (...)\u001b[0m\n\u001b[0;32m     23\u001b[0m \u001b[38;5;66;03m#  [ 9 10]\u001b[39;00m\n\u001b[0;32m     24\u001b[0m \u001b[38;5;66;03m#  [11 12]]]\u001b[39;00m\n\u001b[1;32m---> 26\u001b[0m arr \u001b[38;5;241m=\u001b[39m \u001b[43marr\u001b[49m\u001b[38;5;241;43m.\u001b[39;49m\u001b[43mreshape\u001b[49m\u001b[43m(\u001b[49m\u001b[38;5;241;43m3\u001b[39;49m\u001b[43m,\u001b[49m\u001b[43m \u001b[49m\u001b[38;5;241;43m3\u001b[39;49m\u001b[43m,\u001b[49m\u001b[43m \u001b[49m\u001b[38;5;241;43m2\u001b[39;49m\u001b[43m)\u001b[49m\n\u001b[0;32m     28\u001b[0m \u001b[38;5;28mprint\u001b[39m(arr)\n\u001b[0;32m     30\u001b[0m \u001b[38;5;66;03m## 10.4. Lakukan reshape dengan ukuran array diserahkan kepada python\u001b[39;00m\n\u001b[0;32m     31\u001b[0m \u001b[38;5;66;03m#[[[ 1  2  3]\u001b[39;00m\n\u001b[0;32m     32\u001b[0m \u001b[38;5;66;03m#  [ 4  5  6]]\u001b[39;00m\n\u001b[0;32m     33\u001b[0m \n\u001b[0;32m     34\u001b[0m \u001b[38;5;66;03m# [[ 7  8  9]\u001b[39;00m\n\u001b[0;32m     35\u001b[0m \u001b[38;5;66;03m#  [10 11 12]]]\u001b[39;00m\n",
      "\u001b[1;31mValueError\u001b[0m: cannot reshape array of size 12 into shape (3,3,2)"
     ]
    }
   ],
   "source": [
    "## 10.1 Buatlah array : arr = np.array([1, 2, 3, 4, 5, 6, 7, 8, 9, 10, 11, 12])\n",
    "import numpy as np\n",
    "\n",
    "arr = np.array([1, 2, 3, 4, 5, 6, 7, 8, 9, 10, 11, 12])\n",
    "\n",
    "## 10.2. Ubah arr dengan ukuran 4x3 \n",
    "#[[ 1  2  3]\n",
    "# [ 4  5  6]\n",
    "# [ 7  8  9]\n",
    "# [10 11 12]]\n",
    "arr = arr.reshape(4, 3)\n",
    "\n",
    "print(arr)\n",
    "\n",
    "\n",
    "## 10.3. Lakukan reshape arr menjadi array 3 dimensi \n",
    "\n",
    "##[[[ 1  2]\n",
    "#  [ 3  4]\n",
    "#  [ 5  6]]\n",
    "\n",
    "##[[ 7  8]\n",
    "#  [ 9 10]\n",
    "#  [11 12]]]\n",
    "\n",
    "arr = arr.reshape(3, 3, 2)\n",
    "\n",
    "print(arr)\n",
    "\n",
    "## 10.4. Lakukan reshape dengan ukuran array diserahkan kepada python\n",
    "#[[[ 1  2  3]\n",
    "#  [ 4  5  6]]\n",
    "\n",
    "# [[ 7  8  9]\n",
    "#  [10 11 12]]]\n",
    "\n",
    "arr = arr.reshape(-1, 2, 3)\n",
    "\n",
    "print(arr)\n",
    "\n",
    "## 10.5 Lakukan proses flattening array dari arrku\n",
    "#[11 12 13 14 15 21 22 23 24 25 31 32 33 34 35]\n",
    "\n",
    "arrku_flat = arrku.flatten()\n",
    "\n",
    "print(arrku_flat)\n"
   ]
  }
 ],
 "metadata": {
  "kernelspec": {
   "display_name": "Python 3",
   "language": "python",
   "name": "python3"
  },
  "language_info": {
   "codemirror_mode": {
    "name": "ipython",
    "version": 3
   },
   "file_extension": ".py",
   "mimetype": "text/x-python",
   "name": "python",
   "nbconvert_exporter": "python",
   "pygments_lexer": "ipython3",
   "version": "3.12.1"
  }
 },
 "nbformat": 4,
 "nbformat_minor": 2
}
